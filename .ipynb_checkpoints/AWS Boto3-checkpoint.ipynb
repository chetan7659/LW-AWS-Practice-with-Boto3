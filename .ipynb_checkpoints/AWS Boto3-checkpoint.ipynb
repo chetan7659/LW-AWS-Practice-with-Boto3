{
 "cells": [
  {
   "cell_type": "markdown",
   "id": "79b7ded9-87b2-453e-9ac6-b682b8cdb72a",
   "metadata": {},
   "source": [
    "## Task2 With the help of boto3 launch and terminate ec2 instance"
   ]
  },
  {
   "cell_type": "code",
   "execution_count": 2,
   "id": "50e1f5e7-216e-4813-9908-84ce8cbb717a",
   "metadata": {},
   "outputs": [
    {
     "name": "stdout",
     "output_type": "stream",
     "text": [
      "Requirement already satisfied: boto3 in c:\\users\\cheta\\anaconda3\\lib\\site-packages (1.34.69)\n",
      "Requirement already satisfied: botocore<1.35.0,>=1.34.69 in c:\\users\\cheta\\anaconda3\\lib\\site-packages (from boto3) (1.34.69)\n",
      "Requirement already satisfied: jmespath<2.0.0,>=0.7.1 in c:\\users\\cheta\\anaconda3\\lib\\site-packages (from boto3) (1.0.1)\n",
      "Requirement already satisfied: s3transfer<0.11.0,>=0.10.0 in c:\\users\\cheta\\anaconda3\\lib\\site-packages (from boto3) (0.10.3)\n",
      "Requirement already satisfied: python-dateutil<3.0.0,>=2.1 in c:\\users\\cheta\\anaconda3\\lib\\site-packages (from botocore<1.35.0,>=1.34.69->boto3) (2.9.0.post0)\n",
      "Requirement already satisfied: urllib3!=2.2.0,<3,>=1.25.4 in c:\\users\\cheta\\anaconda3\\lib\\site-packages (from botocore<1.35.0,>=1.34.69->boto3) (2.2.2)\n",
      "Requirement already satisfied: six>=1.5 in c:\\users\\cheta\\anaconda3\\lib\\site-packages (from python-dateutil<3.0.0,>=2.1->botocore<1.35.0,>=1.34.69->boto3) (1.16.0)\n",
      "Note: you may need to restart the kernel to use updated packages.\n"
     ]
    },
    {
     "name": "stderr",
     "output_type": "stream",
     "text": [
      "DEPRECATION: Loading egg at c:\\users\\cheta\\anaconda3\\lib\\site-packages\\fastapi-0.115.8-py3.12.egg is deprecated. pip 24.3 will enforce this behaviour change. A possible replacement is to use pip for package installation.. Discussion can be found at https://github.com/pypa/pip/issues/12330\n",
      "DEPRECATION: Loading egg at c:\\users\\cheta\\anaconda3\\lib\\site-packages\\networksecurity-0.0.1-py3.12.egg is deprecated. pip 24.3 will enforce this behaviour change. A possible replacement is to use pip for package installation.. Discussion can be found at https://github.com/pypa/pip/issues/12330\n",
      "DEPRECATION: Loading egg at c:\\users\\cheta\\anaconda3\\lib\\site-packages\\pyaml-25.1.0-py3.12.egg is deprecated. pip 24.3 will enforce this behaviour change. A possible replacement is to use pip for package installation.. Discussion can be found at https://github.com/pypa/pip/issues/12330\n",
      "DEPRECATION: Loading egg at c:\\users\\cheta\\anaconda3\\lib\\site-packages\\pymongo-4.11.1-py3.12-win-amd64.egg is deprecated. pip 24.3 will enforce this behaviour change. A possible replacement is to use pip for package installation.. Discussion can be found at https://github.com/pypa/pip/issues/12330\n",
      "DEPRECATION: Loading egg at c:\\users\\cheta\\anaconda3\\lib\\site-packages\\python_multipart-0.0.20-py3.12.egg is deprecated. pip 24.3 will enforce this behaviour change. A possible replacement is to use pip for package installation.. Discussion can be found at https://github.com/pypa/pip/issues/12330\n",
      "DEPRECATION: Loading egg at c:\\users\\cheta\\anaconda3\\lib\\site-packages\\uvicorn-0.34.0-py3.12.egg is deprecated. pip 24.3 will enforce this behaviour change. A possible replacement is to use pip for package installation.. Discussion can be found at https://github.com/pypa/pip/issues/12330\n"
     ]
    }
   ],
   "source": [
    "pip install boto3"
   ]
  },
  {
   "cell_type": "code",
   "execution_count": 10,
   "id": "e7e81227-be29-415b-b5f8-ef4b5693ec0b",
   "metadata": {},
   "outputs": [
    {
     "name": "stdout",
     "output_type": "stream",
     "text": [
      "✅ Launched EC2 Instance with ID: i-0fdb88c342f6c1620\n",
      "⏳ Waiting for instance to be in running state...\n",
      "🌐 Public IP: 3.95.187.182\n"
     ]
    }
   ],
   "source": [
    "import boto3\n",
    "import time\n",
    "\n",
    "# Create EC2 client\n",
    "ec2 = boto3.client('ec2', region_name='us-east-1')\n",
    "\n",
    "# Launch instance\n",
    "response = ec2.run_instances(\n",
    "    ImageId='ami-0c02fb55956c7d316',  # ✅ Amazon Linux 2 (us-east-1)\n",
    "    InstanceType='t2.micro',\n",
    "    MinCount=1,\n",
    "    MaxCount=1,\n",
    "    KeyName='****************',   # ✅ Ensure this key pair exists in your region\n",
    "    SecurityGroups=['default'],       # ✅ Make sure \"default\" allows SSH (port 22)\n",
    "    TagSpecifications=[               # ✅ Optional: Tag your instance\n",
    "        {\n",
    "            'ResourceType': 'instance',\n",
    "            'Tags': [\n",
    "                {'Key': 'Name', 'Value': 'MyBoto3Instance'}\n",
    "            ]\n",
    "        }\n",
    "    ]\n",
    ")\n",
    "\n",
    "# Get the instance ID\n",
    "instance_id = response['Instances'][0]['InstanceId']\n",
    "print(f\"✅ Launched EC2 Instance with ID: {instance_id}\")\n",
    "\n",
    "# Optional: Wait until instance is running\n",
    "ec2_resource = boto3.resource('ec2', region_name='us-east-1')\n",
    "instance = ec2_resource.Instance(instance_id)\n",
    "print(\"⏳ Waiting for instance to be in running state...\")\n",
    "instance.wait_until_running()\n",
    "\n",
    "# Reload to get public IP\n",
    "instance.load()\n",
    "print(f\"🌐 Public IP: {instance.public_ip_address}\")\n"
   ]
  },
  {
   "cell_type": "code",
   "execution_count": 12,
   "id": "6b779bd0-ab08-4dd9-a1e1-78f010af4fde",
   "metadata": {},
   "outputs": [
    {
     "name": "stdout",
     "output_type": "stream",
     "text": [
      "🛑 Termination initiated for Instance ID: i-0fdb88c342f6c1620\n"
     ]
    }
   ],
   "source": [
    "# Terminate the instance\n",
    "terminate_response = ec2.terminate_instances(InstanceIds=[instance_id])\n",
    "\n",
    "print(f\"🛑 Termination initiated for Instance ID: {instance_id}\")\n"
   ]
  },
  {
   "cell_type": "markdown",
   "id": "248bb884-5df3-4b3c-b10c-d42604efc8a0",
   "metadata": {},
   "source": [
    "## Task 3.  Create a boto3 code to access logs from the cloud watch"
   ]
  },
  {
   "cell_type": "code",
   "execution_count": null,
   "id": "c3e893a1-e610-4206-b3d4-3219c7a96671",
   "metadata": {},
   "outputs": [],
   "source": [
    "import boto3\n",
    "\n",
    "# Initialize CloudWatch Logs client\n",
    "logs = boto3.client('logs', region_name='us-east-1')  # Change region if needed\n",
    "\n",
    "# Step 1: Specify the log group\n",
    "log_group_name = '/aws/lambda/my-function-name'  # <-- Change this!\n",
    "\n",
    "# Step 2: Get the latest log stream (most recent first)\n",
    "streams_response = logs.describe_log_streams(\n",
    "    logGroupName=log_group_name,\n",
    "    orderBy='LastEventTime',\n",
    "    descending=True,\n",
    "    limit=1\n",
    ")\n",
    "\n",
    "# Extract stream name\n",
    "log_stream_name = streams_response['logStreams'][0]['logStreamName']\n",
    "\n",
    "# Step 3: Get log events\n",
    "events_response = logs.get_log_events(\n",
    "    logGroupName=log_group_name,\n",
    "    logStreamName=log_stream_name,\n",
    "    limit=20,  # Number of log lines to fetch\n",
    "    startFromHead=True\n",
    ")\n",
    "\n",
    "# Step 4: Print log messages\n",
    "print(f\"🔍 Logs from {log_stream_name}:\\n\")\n",
    "for event in events_response['events']:\n",
    "    print(event['message'])\n"
   ]
  },
  {
   "cell_type": "code",
   "execution_count": null,
   "id": "d8685429-a41b-4da3-8199-8eb91ed9c622",
   "metadata": {},
   "outputs": [],
   "source": []
  }
 ],
 "metadata": {
  "kernelspec": {
   "display_name": "Python 3 (ipykernel)",
   "language": "python",
   "name": "python3"
  },
  "language_info": {
   "codemirror_mode": {
    "name": "ipython",
    "version": 3
   },
   "file_extension": ".py",
   "mimetype": "text/x-python",
   "name": "python",
   "nbconvert_exporter": "python",
   "pygments_lexer": "ipython3",
   "version": "3.12.3"
  }
 },
 "nbformat": 4,
 "nbformat_minor": 5
}
